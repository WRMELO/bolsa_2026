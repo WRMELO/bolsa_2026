{
 "cells": [
  {
   "cell_type": "markdown",
   "id": "2cd9b860",
   "metadata": {},
   "source": [
    "# Pipeline Bronze: IBOV download (Jupyter)\n",
    "\n",
    "Este notebook baixa o histórico diário do IBOV (ticker `^BVSP`) cobrindo pelo menos 8 anos, salva um arquivo Parquet em `dados_originais/` e escreve um manifesto `manifesto_dados_originais_bronze_ibov.csv`.\n",
    "\n",
    "Siga a política do projeto: não sobrescrever arquivos existentes — o notebook criará novos arquivos quando necessário."
   ]
  },
  {
   "cell_type": "markdown",
   "id": "dcbe0ad9",
   "metadata": {},
   "source": []
  }
 ],
 "metadata": {
  "kernelspec": {
   "display_name": "Python (project: BOLSA_2026)",
   "language": "python",
   "name": ".venv"
  },
  "language_info": {
   "codemirror_mode": {
    "name": "ipython",
    "version": 3
   },
   "file_extension": ".py",
   "mimetype": "text/x-python",
   "name": "python",
   "nbconvert_exporter": "python",
   "pygments_lexer": "ipython3",
   "version": "3.12.3"
  }
 },
 "nbformat": 4,
 "nbformat_minor": 5
}
