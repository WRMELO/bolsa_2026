{
 "cells": [
  {
   "cell_type": "markdown",
   "id": "2cd9b860",
   "metadata": {},
   "source": [
    "# Pipeline Bronze: IBOV download (Jupyter)\n",
    "\n",
    "Este notebook baixa o histórico diário do IBOV (ticker `^BVSP`) cobrindo pelo menos 8 anos, salva um arquivo Parquet em `dados_originais/` e escreve um manifesto `manifesto_dados_originais_bronze_ibov.csv`.\n",
    "\n",
    "Siga a política do projeto: não sobrescrever arquivos existentes — o notebook criará novos arquivos quando necessário."
   ]
  },
  {
   "cell_type": "code",
   "execution_count": 6,
   "id": "f75298d7",
   "metadata": {},
   "outputs": [
    {
     "name": "stdout",
     "output_type": "stream",
     "text": [
      "Prepared paths and date range: 2013-08-18 -> 2025-09-17\n"
     ]
    }
   ],
   "source": [
    "# Cell 1: Imports e configurações iniciais\n",
    "from pathlib import Path\n",
    "from datetime import date, timedelta\n",
    "import hashlib\n",
    "import pandas as pd\n",
    "import yfinance as yf\n",
    "\n",
    "ROOT = Path('/home/wrm/BOLSA_2026')\n",
    "DADOS = ROOT / 'dados_originais'\n",
    "DADOS.mkdir(parents=True, exist_ok=True)\n",
    "TICKER = '^BVSP'\n",
    "MIN_YEARS = 12\n",
    "END = date.today()\n",
    "START = END - timedelta(days=int(MIN_YEARS * 365.25) + 30)  # buffer\n",
    "print('Prepared paths and date range:', START, '->', END)"
   ]
  },
  {
   "cell_type": "code",
   "execution_count": 7,
   "id": "7bc1c347",
   "metadata": {},
   "outputs": [
    {
     "name": "stdout",
     "output_type": "stream",
     "text": [
      "Bronze target parquet: /home/wrm/BOLSA_2026/dados_originais/IBOV_2013-08-18_2025-09-17.parquet\n",
      "Manifest path: /home/wrm/BOLSA_2026/dados_originais/manifesto_dados_originais_bronze_ibov.csv\n"
     ]
    }
   ],
   "source": [
    "# Cell 2: Check for existing bronze files and build output path (do not overwrite)\n",
    "out_parquet = DADOS / f'IBOV_{START.isoformat()}_{END.isoformat()}.parquet'\n",
    "manifest_csv = DADOS / 'manifesto_dados_originais_bronze_ibov.csv'\n",
    "print('Bronze target parquet:', out_parquet)\n",
    "print('Manifest path:', manifest_csv)"
   ]
  },
  {
   "cell_type": "code",
   "execution_count": null,
   "id": "6c7343f4",
   "metadata": {},
   "outputs": [],
   "source": [
    "# Cell 4: Promote Bronze -> Silver (flatten schema, remove duplicates, align B3 calendar)\n",
    "INTERMED = ROOT / 'intermediarios'\n",
    "INTERMED.mkdir(parents=True, exist_ok=True)\n",
    "# Build silver output path (do not overwrite existing silver)\n",
    "bronze_path = out_parquet\n",
    "if not bronze_path.exists():\n",
    "    raise SystemExit(f'Bronze parquet not found: {bronze_path}')\n",
    "dfb = pd.read_parquet(bronze_path)\n",
    "# Flatten MultiIndex columns if present\n",
    "if isinstance(dfb.columns, pd.MultiIndex):\n",
    "    dfb.columns = ['_'.join([str(c) for c in col if c not in [None, '']]).strip() for col in dfb.columns]\n",
    "# Normalize column names to expected flat schema\n",
    "col_map = {}\n",
    "for col in list(dfb.columns):\n",
    "    lc = str(col).lower()\n",
    "    if 'adj' in lc and 'close' in lc:\n",
    "        col_map[col] = 'adj_close'\n",
    "    elif 'close' in lc:\n",
    "        col_map[col] = 'close'\n",
    "    elif 'open' in lc:\n",
    "        col_map[col] = 'open'\n",
    "    elif 'high' in lc:\n",
    "        col_map[col] = 'high'\n",
    "    elif 'low' in lc:\n",
    "        col_map[col] = 'low'\n",
    "    elif 'volume' in lc:\n",
    "        col_map[col] = 'volume'\n",
    "    elif 'date' in lc:\n",
    "        col_map[col] = 'date'\n",
    "    elif 'ticker' in lc:\n",
    "        col_map[col] = 'ticker'\n",
    "dfb = dfb.rename(columns=col_map)\n",
    "# Ensure required columns exist and fill adj_close from close if necessary\n",
    "for c in ['date','open','high','low','close','adj_close','volume','ticker']:\n",
    "    if c not in dfb.columns:\n",
    "        dfb[c] = pd.NA\n",
    "if 'adj_close' in dfb.columns and dfb['adj_close'].isna().all() and 'close' in dfb.columns:\n",
    "    dfb['adj_close'] = dfb['close']\n",
    "# Normalize date column, remove duplicates and sort\n",
    "dfb['date'] = pd.to_datetime(dfb['date']).dt.normalize()\n",
    "pre_rows = len(dfb)\n",
    "dfb = dfb.sort_values('date').drop_duplicates('date', keep='first').reset_index(drop=True)\n",
    "dups_removed = pre_rows - len(dfb)\n",
    "# Try to align with B3 calendar (pandas_market_calendars)\n",
    "missing_trading_days = None\n",
    "try:\n",
    "    import pandas_market_calendars as mcal\n",
    "    cal = mcal.get_calendar('BVMF')\n",
    "    schedule = cal.schedule(start_date=dfb['date'].min().date(), end_date=dfb['date'].max().date())\n",
    "    trading_days = pd.to_datetime(schedule.index).normalize()\n",
    "    # Filter dataframe to trading days (keeps only pregões)\n",
    "    dfb = dfb[dfb['date'].isin(trading_days)].reset_index(drop=True)\n",
    "    # compute missing days if any\n",
    "    missing_trading_days = sorted(set(trading_days) - set(dfb['date']))\n",
    "except Exception as e:\n",
    "    print('B3 calendar alignment skipped:', e)\n",
    "# Write silver parquet and manifest (do not overwrite existing silver file)\n",
    "silver_path = INTERMED / f'IBOV_silver_{dfb['date'].min().date().isoformat()}_{dfb['date'].max().date().isoformat()}.parquet'\n",
    "manifest_silver = INTERMED / 'manifesto_silver.csv'\n",
    "if silver_path.exists():\n",
    "    print('Silver parquet already exists, skipping:', silver_path)\n",
    "else:\n",
    "    dfb.to_parquet(silver_path)\n",
    "    row = {\n",
    "        'file': silver_path.name,\n",
    "        'ticker': TICKER,\n",
    "        'date_min': dfb['date'].min().isoformat(),\n",
    "        'date_max': dfb['date'].max().isoformat(),\n",
    "        'rows': len(dfb),\n",
    "        'source': 'derived_from_bronze',\n",
    "    }\n",
    "    row['sha256'] = hashlib.sha256(silver_path.read_bytes()).hexdigest()\n",
    "    dfm = pd.DataFrame([row])\n",
    "    if manifest_silver.exists():\n",
    "        dfm.to_csv(manifest_silver, mode='a', header=False, index=False)\n",
    "    else:\n",
    "        dfm.to_csv(manifest_silver, index=False)\n",
    "    print('Saved silver parquet and manifest:', silver_path, manifest_silver)\n",
    "    print('Rows after cleaning:', len(dfb), 'duplicates removed:', dups_removed)\n",
    "    if missing_trading_days is not None and len(missing_trading_days):\n",
    "        print('Warning: missing trading days (present in B3 calendar but not in data):', len(missing_trading_days))\n",
    "    print('NaNs per column:\\n', dfb.isna().sum())"
   ]
  }
 ],
 "metadata": {
  "kernelspec": {
   "display_name": "Python (project: BOLSA_2026)",
   "language": "python",
   "name": ".venv"
  },
  "language_info": {
   "codemirror_mode": {
    "name": "ipython",
    "version": 3
   },
   "file_extension": ".py",
   "mimetype": "text/x-python",
   "name": "python",
   "nbconvert_exporter": "python",
   "pygments_lexer": "ipython3",
   "version": "3.12.3"
  }
 },
 "nbformat": 4,
 "nbformat_minor": 5
}
