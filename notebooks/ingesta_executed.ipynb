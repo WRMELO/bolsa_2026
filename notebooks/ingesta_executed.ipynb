{
 "cells": [
  {
   "cell_type": "code",
   "execution_count": 1,
   "id": "e11d95bf",
   "metadata": {
    "execution": {
     "iopub.execute_input": "2025-09-15T13:56:39.707174Z",
     "iopub.status.busy": "2025-09-15T13:56:39.707073Z",
     "iopub.status.idle": "2025-09-15T13:56:55.868943Z",
     "shell.execute_reply": "2025-09-15T13:56:55.868693Z"
    }
   },
   "outputs": [
    {
     "name": "stdout",
     "output_type": "stream",
     "text": [
      "Collecting tqdm\r\n",
      "  Using cached tqdm-4.67.1-py3-none-any.whl.metadata (57 kB)\r\n",
      "Using cached tqdm-4.67.1-py3-none-any.whl (78 kB)\r\n"
     ]
    },
    {
     "name": "stdout",
     "output_type": "stream",
     "text": [
      "Installing collected packages: tqdm\r\n"
     ]
    },
    {
     "name": "stdout",
     "output_type": "stream",
     "text": [
      "Successfully installed tqdm-4.67.1\r\n"
     ]
    },
    {
     "name": "stdout",
     "output_type": "stream",
     "text": [
      "Note: you may need to restart the kernel to use updated packages.\n"
     ]
    },
    {
     "name": "stderr",
     "output_type": "stream",
     "text": [
      "\r",
      "Baixando 3 anos (OHLCV):   0%|                                       | 0/25 [00:00<?, ?it/s]"
     ]
    },
    {
     "name": "stderr",
     "output_type": "stream",
     "text": [
      "\r",
      "Baixando 3 anos (OHLCV):   4%|█▏                             | 1/25 [00:01<00:29,  1.23s/it]"
     ]
    },
    {
     "name": "stderr",
     "output_type": "stream",
     "text": [
      "\r",
      "Baixando 3 anos (OHLCV):   8%|██▍                            | 2/25 [00:01<00:19,  1.18it/s]"
     ]
    },
    {
     "name": "stderr",
     "output_type": "stream",
     "text": [
      "\r",
      "Baixando 3 anos (OHLCV):  12%|███▋                           | 3/25 [00:02<00:15,  1.43it/s]"
     ]
    },
    {
     "name": "stderr",
     "output_type": "stream",
     "text": [
      "\r",
      "Baixando 3 anos (OHLCV):  16%|████▉                          | 4/25 [00:02<00:12,  1.62it/s]"
     ]
    },
    {
     "name": "stderr",
     "output_type": "stream",
     "text": [
      "\r",
      "Baixando 3 anos (OHLCV):  20%|██████▏                        | 5/25 [00:03<00:12,  1.61it/s]"
     ]
    },
    {
     "name": "stderr",
     "output_type": "stream",
     "text": [
      "\r",
      "Baixando 3 anos (OHLCV):  24%|███████▍                       | 6/25 [00:04<00:11,  1.62it/s]"
     ]
    },
    {
     "name": "stderr",
     "output_type": "stream",
     "text": [
      "\r",
      "Baixando 3 anos (OHLCV):  28%|████████▋                      | 7/25 [00:04<00:11,  1.62it/s]"
     ]
    },
    {
     "name": "stderr",
     "output_type": "stream",
     "text": [
      "\r",
      "Baixando 3 anos (OHLCV):  32%|█████████▉                     | 8/25 [00:05<00:10,  1.63it/s]"
     ]
    },
    {
     "name": "stderr",
     "output_type": "stream",
     "text": [
      "\r",
      "Baixando 3 anos (OHLCV):  36%|███████████▏                   | 9/25 [00:05<00:09,  1.72it/s]"
     ]
    },
    {
     "name": "stderr",
     "output_type": "stream",
     "text": [
      "\r",
      "Baixando 3 anos (OHLCV):  40%|████████████                  | 10/25 [00:06<00:09,  1.61it/s]"
     ]
    },
    {
     "name": "stderr",
     "output_type": "stream",
     "text": [
      "\r",
      "Baixando 3 anos (OHLCV):  44%|█████████████▏                | 11/25 [00:07<00:08,  1.69it/s]"
     ]
    },
    {
     "name": "stderr",
     "output_type": "stream",
     "text": [
      "\r",
      "Baixando 3 anos (OHLCV):  48%|██████████████▍               | 12/25 [00:07<00:08,  1.52it/s]"
     ]
    },
    {
     "name": "stderr",
     "output_type": "stream",
     "text": [
      "\r",
      "Baixando 3 anos (OHLCV):  52%|███████████████▌              | 13/25 [00:08<00:07,  1.54it/s]"
     ]
    },
    {
     "name": "stderr",
     "output_type": "stream",
     "text": [
      "\r",
      "Baixando 3 anos (OHLCV):  56%|████████████████▊             | 14/25 [00:09<00:07,  1.57it/s]"
     ]
    },
    {
     "name": "stderr",
     "output_type": "stream",
     "text": [
      "\r",
      "Baixando 3 anos (OHLCV):  60%|██████████████████            | 15/25 [00:09<00:06,  1.57it/s]"
     ]
    },
    {
     "name": "stderr",
     "output_type": "stream",
     "text": [
      "\r",
      "Baixando 3 anos (OHLCV):  64%|███████████████████▏          | 16/25 [00:10<00:05,  1.61it/s]"
     ]
    },
    {
     "name": "stderr",
     "output_type": "stream",
     "text": [
      "\r",
      "Baixando 3 anos (OHLCV):  68%|████████████████████▍         | 17/25 [00:10<00:04,  1.70it/s]"
     ]
    },
    {
     "name": "stderr",
     "output_type": "stream",
     "text": [
      "\r",
      "Baixando 3 anos (OHLCV):  72%|█████████████████████▌        | 18/25 [00:11<00:03,  1.76it/s]"
     ]
    },
    {
     "name": "stderr",
     "output_type": "stream",
     "text": [
      "\r",
      "Baixando 3 anos (OHLCV):  76%|██████████████████████▊       | 19/25 [00:11<00:03,  1.81it/s]"
     ]
    },
    {
     "name": "stderr",
     "output_type": "stream",
     "text": [
      "\r",
      "Baixando 3 anos (OHLCV):  80%|████████████████████████      | 20/25 [00:12<00:02,  1.77it/s]"
     ]
    },
    {
     "name": "stderr",
     "output_type": "stream",
     "text": [
      "\r",
      "Baixando 3 anos (OHLCV):  84%|█████████████████████████▏    | 21/25 [00:13<00:02,  1.72it/s]"
     ]
    },
    {
     "name": "stderr",
     "output_type": "stream",
     "text": [
      "\r",
      "Baixando 3 anos (OHLCV):  88%|██████████████████████████▍   | 22/25 [00:13<00:01,  1.69it/s]"
     ]
    },
    {
     "name": "stderr",
     "output_type": "stream",
     "text": [
      "\r",
      "Baixando 3 anos (OHLCV):  92%|███████████████████████████▌  | 23/25 [00:14<00:01,  1.60it/s]"
     ]
    },
    {
     "name": "stderr",
     "output_type": "stream",
     "text": [
      "\r",
      "Baixando 3 anos (OHLCV):  96%|████████████████████████████▊ | 24/25 [00:14<00:00,  1.72it/s]"
     ]
    },
    {
     "name": "stderr",
     "output_type": "stream",
     "text": [
      "\r",
      "Baixando 3 anos (OHLCV): 100%|██████████████████████████████| 25/25 [00:15<00:00,  1.76it/s]"
     ]
    },
    {
     "name": "stderr",
     "output_type": "stream",
     "text": [
      "\r",
      "Baixando 3 anos (OHLCV): 100%|██████████████████████████████| 25/25 [00:15<00:00,  1.62it/s]"
     ]
    },
    {
     "name": "stdout",
     "output_type": "stream",
     "text": [
      "\n",
      "Resumo do manifesto:\n",
      "   ticker  rows first_date  last_date status                                                 file_path\n",
      " ITUB4.SA   754 2022-09-06 2025-09-12     OK  /home/wrm/BOLSA_2026/dados_originais/ITUB4_SA_3y.parquet\n",
      " BBAS3.SA   754 2022-09-06 2025-09-12     OK  /home/wrm/BOLSA_2026/dados_originais/BBAS3_SA_3y.parquet\n",
      " B3SA3.SA   754 2022-09-06 2025-09-12     OK  /home/wrm/BOLSA_2026/dados_originais/B3SA3_SA_3y.parquet\n",
      " PSSA3.SA   754 2022-09-06 2025-09-12     OK  /home/wrm/BOLSA_2026/dados_originais/PSSA3_SA_3y.parquet\n",
      " VALE3.SA   754 2022-09-06 2025-09-12     OK  /home/wrm/BOLSA_2026/dados_originais/VALE3_SA_3y.parquet\n",
      " GGBR4.SA   754 2022-09-06 2025-09-12     OK  /home/wrm/BOLSA_2026/dados_originais/GGBR4_SA_3y.parquet\n",
      " CSNA3.SA   754 2022-09-06 2025-09-12     OK  /home/wrm/BOLSA_2026/dados_originais/CSNA3_SA_3y.parquet\n",
      " SUZB3.SA   754 2022-09-06 2025-09-12     OK  /home/wrm/BOLSA_2026/dados_originais/SUZB3_SA_3y.parquet\n",
      " PETR4.SA   754 2022-09-06 2025-09-12     OK  /home/wrm/BOLSA_2026/dados_originais/PETR4_SA_3y.parquet\n",
      " PRIO3.SA   754 2022-09-06 2025-09-12     OK  /home/wrm/BOLSA_2026/dados_originais/PRIO3_SA_3y.parquet\n",
      " UGPA3.SA   754 2022-09-06 2025-09-12     OK  /home/wrm/BOLSA_2026/dados_originais/UGPA3_SA_3y.parquet\n",
      " ELET3.SA   754 2022-09-06 2025-09-12     OK  /home/wrm/BOLSA_2026/dados_originais/ELET3_SA_3y.parquet\n",
      "TAEE11.SA   754 2022-09-06 2025-09-12     OK /home/wrm/BOLSA_2026/dados_originais/TAEE11_SA_3y.parquet\n",
      " CPLE6.SA   753 2022-09-06 2025-09-12     OK  /home/wrm/BOLSA_2026/dados_originais/CPLE6_SA_3y.parquet\n",
      " SBSP3.SA   754 2022-09-06 2025-09-12     OK  /home/wrm/BOLSA_2026/dados_originais/SBSP3_SA_3y.parquet\n",
      " VIVT3.SA   754 2022-09-06 2025-09-12     OK  /home/wrm/BOLSA_2026/dados_originais/VIVT3_SA_3y.parquet\n",
      " TIMS3.SA   754 2022-09-06 2025-09-12     OK  /home/wrm/BOLSA_2026/dados_originais/TIMS3_SA_3y.parquet\n",
      " RDOR3.SA   754 2022-09-06 2025-09-12     OK  /home/wrm/BOLSA_2026/dados_originais/RDOR3_SA_3y.parquet\n",
      " HAPV3.SA   754 2022-09-06 2025-09-12     OK  /home/wrm/BOLSA_2026/dados_originais/HAPV3_SA_3y.parquet\n",
      " ABEV3.SA   754 2022-09-06 2025-09-12     OK  /home/wrm/BOLSA_2026/dados_originais/ABEV3_SA_3y.parquet\n",
      " WEGE3.SA   754 2022-09-06 2025-09-12     OK  /home/wrm/BOLSA_2026/dados_originais/WEGE3_SA_3y.parquet\n",
      " TOTS3.SA   754 2022-09-06 2025-09-12     OK  /home/wrm/BOLSA_2026/dados_originais/TOTS3_SA_3y.parquet\n",
      " LREN3.SA   754 2022-09-06 2025-09-12     OK  /home/wrm/BOLSA_2026/dados_originais/LREN3_SA_3y.parquet\n",
      " RAIL3.SA   754 2022-09-06 2025-09-12     OK  /home/wrm/BOLSA_2026/dados_originais/RAIL3_SA_3y.parquet\n",
      "    ^BVSP   754 2022-09-06 2025-09-12     OK      /home/wrm/BOLSA_2026/dados_originais/BVSP_3y.parquet\n",
      "\n",
      "Arquivos salvos em: /home/wrm/BOLSA_2026/dados_originais\n",
      "Manifesto: /home/wrm/BOLSA_2026/dados_originais/manifesto_dados_originais_3y.csv\n"
     ]
    },
    {
     "name": "stderr",
     "output_type": "stream",
     "text": [
      "\n"
     ]
    }
   ],
   "source": [
    "# ETAPA: DOWNLOAD DE 3 ANOS (OHLCV DIÁRIO) — 24 TICKERS + IBOV\n",
    "# Objetivo: baixar 3 anos de dados para a carteira base e salvar Parquets + manifesto.\n",
    "\n",
    "%pip install tqdm\n",
    "from pathlib import Path\n",
    "from datetime import datetime, timedelta, timezone\n",
    "import pandas as pd\n",
    "from tqdm import tqdm\n",
    "import yfinance as yf\n",
    "\n",
    "# Diretório SSOT local\n",
    "BASE_DIR = Path(\"/home/wrm/BOLSA_2026/dados_originais\")\n",
    "BASE_DIR.mkdir(parents=True, exist_ok=True)\n",
    "\n",
    "# Seleção interna balanceada (24)\n",
    "TICKERS_24 = [\n",
    "    # Financeiro (4)\n",
    "    \"ITUB4.SA\", \"BBAS3.SA\", \"B3SA3.SA\", \"PSSA3.SA\",\n",
    "    # Materiais / Papel & Celulose / Metais (4)\n",
    "    \"VALE3.SA\", \"GGBR4.SA\", \"CSNA3.SA\", \"SUZB3.SA\",\n",
    "    # Energia / Óleo & Gás / Combustíveis (3)\n",
    "    \"PETR4.SA\", \"PRIO3.SA\", \"UGPA3.SA\",\n",
    "    # Utilidades Elétricas (3)\n",
    "    \"ELET3.SA\", \"TAEE11.SA\", \"CPLE6.SA\",\n",
    "    # Saneamento (1)\n",
    "    \"SBSP3.SA\",\n",
    "    # Telecom (2)\n",
    "    \"VIVT3.SA\", \"TIMS3.SA\",\n",
    "    # Saúde (2)\n",
    "    \"RDOR3.SA\", \"HAPV3.SA\",\n",
    "    # Consumo / Industrial / Tecnologia (4)\n",
    "    \"ABEV3.SA\", \"WEGE3.SA\", \"TOTS3.SA\", \"LREN3.SA\",\n",
    "    # Transporte / Infra (1)\n",
    "    \"RAIL3.SA\",\n",
    "]\n",
    "\n",
    "# Índice Ibovespa\n",
    "IBOV_TICKER = \"^BVSP\"\n",
    "\n",
    "# Janela temporal (3 anos até hoje, com folga)\n",
    "agora = datetime.now(timezone.utc).astimezone()\n",
    "data_fim = agora.date()\n",
    "data_inicio = data_fim - timedelta(days=365*3 + 10)\n",
    "\n",
    "# Validações\n",
    "assert len(TICKERS_24) == 24, f\"Esperados 24 tickers, obtidos {len(TICKERS_24)}\"\n",
    "for tk in TICKERS_24:\n",
    "    if not tk.endswith(\".SA\"):\n",
    "        raise ValueError(f\"Ticker sem sufixo .SA: {tk}\")\n",
    "\n",
    "def baixar_e_salvar(ticker: str, start_date: str, end_date: str, base_dir: Path) -> dict:\n",
    "    df = yf.download(\n",
    "        ticker, start=start_date, end=end_date,\n",
    "        progress=False, interval=\"1d\", auto_adjust=False, threads=True\n",
    "    )\n",
    "    if not df.empty:\n",
    "        df = (df.rename(columns={\n",
    "                \"Open\": \"open\", \"High\": \"high\", \"Low\": \"low\",\n",
    "                \"Close\": \"close\", \"Adj Close\": \"adj_close\", \"Volume\": \"volume\"\n",
    "             })\n",
    "             .reset_index()\n",
    "             .rename(columns={\"Date\": \"date\"}))\n",
    "        df[\"ticker\"] = ticker\n",
    "        out_path = base_dir / f\"{ticker.replace('^','').replace('.','_')}_3y.parquet\"\n",
    "        df.to_parquet(out_path, index=False)\n",
    "        return {\n",
    "            \"ticker\": ticker, \"rows\": len(df),\n",
    "            \"first_date\": df[\"date\"].min().strftime(\"%Y-%m-%d\"),\n",
    "            \"last_date\": df[\"date\"].max().strftime(\"%Y-%m-%d\"),\n",
    "            \"file_path\": str(out_path), \"status\": \"OK\"\n",
    "        }\n",
    "    else:\n",
    "        return {\"ticker\": ticker, \"rows\": 0, \"first_date\": None, \"last_date\": None,\n",
    "                \"file_path\": None, \"status\": \"VAZIO\"}\n",
    "\n",
    "metas = []\n",
    "for tk in tqdm(TICKERS_24 + [IBOV_TICKER], desc=\"Baixando 3 anos (OHLCV)\"):\n",
    "    metas.append(baixar_e_salvar(\n",
    "        ticker=tk,\n",
    "        start_date=data_inicio.strftime(\"%Y-%m-%d\"),\n",
    "        end_date=data_fim.strftime(\"%Y-%m-%d\"),\n",
    "        base_dir=BASE_DIR\n",
    "    ))\n",
    "\n",
    "manifesto = pd.DataFrame(metas)\n",
    "manifesto_path = BASE_DIR / \"manifesto_dados_originais_3y.csv\"\n",
    "manifesto.to_csv(manifesto_path, index=False)\n",
    "\n",
    "print(\"\\nResumo do manifesto:\")\n",
    "print(manifesto[[\"ticker\", \"rows\", \"first_date\", \"last_date\", \"status\", \"file_path\"]]\n",
    "      .to_string(index=False))\n",
    "print(f\"\\nArquivos salvos em: {BASE_DIR}\")\n",
    "print(f\"Manifesto: {manifesto_path}\")\n"
   ]
  }
 ],
 "metadata": {
  "kernelspec": {
   "display_name": "Python (zenbook_env)",
   "language": "python",
   "name": "zenbook_env"
  },
  "language_info": {
   "codemirror_mode": {
    "name": "ipython",
    "version": 3
   },
   "file_extension": ".py",
   "mimetype": "text/x-python",
   "name": "python",
   "nbconvert_exporter": "python",
   "pygments_lexer": "ipython3",
   "version": "3.12.3"
  }
 },
 "nbformat": 4,
 "nbformat_minor": 5
}
