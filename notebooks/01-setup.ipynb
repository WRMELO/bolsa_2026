{
 "cells": [
  {
   "cell_type": "markdown",
   "id": "4d866e26",
   "metadata": {},
   "source": [
    "# Smoke test: importar pacotes do ambiente\n",
    "Execute esta célula para verificar se os pacotes principais carregam no kernel `.venv`.\n",
    "Use 'Run' no Jupyter ou Shift+Enter."
   ]
  },
  {
   "cell_type": "code",
   "execution_count": 4,
   "id": "b7a79500",
   "metadata": {},
   "outputs": [
    {
     "name": "stdout",
     "output_type": "stream",
     "text": [
      "python: 3.12.3 (main, Aug 14 2025, 17:47:21) [GCC 13.3.0]\n",
      "executable: /home/wrm/zenbook_env/bin/python\n",
      "numpy: 2.3.1\n",
      "pandas: 2.3.0\n",
      "scipy: 1.16.0\n",
      "sklearn: 1.7.0\n",
      "matplotlib: 3.10.3\n",
      "seaborn: 0.13.2\n",
      "plotly: 6.3.0\n",
      "altair: 5.5.0\n",
      "fastparquet: 2024.11.0\n",
      "fsspec: 2025.9.0\n",
      "notebook: 7.4.4\n",
      "ipykernel: 6.29.5\n"
     ]
    }
   ],
   "source": [
    "import sys\n",
    "from importlib import metadata\n",
    "from importlib.metadata import PackageNotFoundError\n",
    "packages = ['numpy','pandas','scipy','sklearn','matplotlib','seaborn','plotly','altair','fastparquet','fsspec','notebook','ipykernel']\n",
    "print('python:', sys.version.splitlines()[0])\n",
    "print('executable:', sys.executable)\n",
    "for p in packages:\n",
    "    mod = None\n",
    "    ver = None\n",
    "    try:\n",
    "        mod = __import__(p)\n",
    "        ver = getattr(mod, '__version__', None)\n",
    "    except Exception:\n",
    "        mod = None\n",
    "        ver = None\n",
    "    if not ver:\n",
    "        try:\n",
    "            ver = metadata.version(p)\n",
    "        except PackageNotFoundError:\n",
    "            ver = None\n",
    "        except Exception:\n",
    "            ver = None\n",
    "    if ver:\n",
    "        print(f'{p}:', ver)\n",
    "    else:\n",
    "        if mod is None:\n",
    "            print(f'{p}: NOT INSTALLED')\n",
    "        else:\n",
    "            print(f'{p}: INSTALLED (no metadata/version available)')"
   ]
  }
 ],
 "metadata": {
  "kernelspec": {
   "display_name": "Python (zenbook_env)",
   "language": "python",
   "name": "zenbook_env"
  },
  "language_info": {
   "codemirror_mode": {
    "name": "ipython",
    "version": 3
   },
   "file_extension": ".py",
   "mimetype": "text/x-python",
   "name": "python",
   "nbconvert_exporter": "python",
   "pygments_lexer": "ipython3",
   "version": "3.12.3"
  }
 },
 "nbformat": 4,
 "nbformat_minor": 5
}
